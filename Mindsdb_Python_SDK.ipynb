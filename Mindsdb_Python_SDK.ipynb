{
  "nbformat": 4,
  "nbformat_minor": 0,
  "metadata": {
    "colab": {
      "provenance": [],
      "include_colab_link": true
    },
    "kernelspec": {
      "name": "python3",
      "display_name": "Python 3"
    },
    "language_info": {
      "name": "python"
    }
  },
  "cells": [
    {
      "cell_type": "markdown",
      "metadata": {
        "id": "view-in-github",
        "colab_type": "text"
      },
      "source": [
        "<a href=\"https://colab.research.google.com/github/raymondbernard/ChatGPT-Simple/blob/main/Mindsdb_Python_SDK.ipynb\" target=\"_parent\"><img src=\"https://colab.research.google.com/assets/colab-badge.svg\" alt=\"Open In Colab\"/></a>"
      ]
    },
    {
      "cell_type": "markdown",
      "source": [
        "# **Python Mindsdb SDK Examples**\n",
        "\n",
        "The [MindsDB](https://mindsdb.com/) Python SDK allows you to unlock the power of machine learning right inside your web applications. We provide interfaces to perform most MindsDB operations, such as training and querying models, and connecting your own datasources to MindsDB.\n",
        "\n",
        "[Open source on Github](https://github.com/mindsdb/mindsdb_python_sdk)\n",
        "\n",
        "[Documentation](https://mindsdb.github.io/mindsdb_python_sdk/)"
      ],
      "metadata": {
        "id": "nquWuOxEIV09"
      }
    },
    {
      "cell_type": "markdown",
      "source": [
        "## **Install and Import Mindsdb SDK:**\n",
        "\n",
        "If you haven't already, make sure to [create a MindsDB account](https://cloud.mindsdb.com/register) to use with the SDK.\n",
        "\n",
        "Before we can do anything, we need to install and import the MindsDB SDK:"
      ],
      "metadata": {
        "id": "1kvgpkAFrOtg"
      }
    },
    {
      "cell_type": "code",
      "execution_count": 1,
      "metadata": {
        "colab": {
          "base_uri": "https://localhost:8080/"
        },
        "id": "wdavbHupJ4-O",
        "outputId": "142da260-48f6-4db5-815b-92a6cd262876"
      },
      "outputs": [
        {
          "output_type": "stream",
          "name": "stdout",
          "text": [
            "Collecting mindsdb_sdk\n",
            "  Downloading mindsdb_sdk-1.0.4.tar.gz (13 kB)\n",
            "  Preparing metadata (setup.py) ... \u001b[?25l\u001b[?25hdone\n",
            "Requirement already satisfied: requests in /usr/local/lib/python3.10/dist-packages (from mindsdb_sdk) (2.27.1)\n",
            "Collecting pandas==1.3.5 (from mindsdb_sdk)\n",
            "  Downloading pandas-1.3.5-cp310-cp310-manylinux_2_17_x86_64.manylinux2014_x86_64.whl (11.5 MB)\n",
            "\u001b[2K     \u001b[90m━━━━━━━━━━━━━━━━━━━━━━━━━━━━━━━━━━━━━━━━\u001b[0m \u001b[32m11.5/11.5 MB\u001b[0m \u001b[31m30.5 MB/s\u001b[0m eta \u001b[36m0:00:00\u001b[0m\n",
            "\u001b[?25hCollecting mindsdb-sql<0.7.0,>=0.6.1 (from mindsdb_sdk)\n",
            "  Downloading mindsdb_sql-0.6.5-py3-none-any.whl (137 kB)\n",
            "\u001b[2K     \u001b[90m━━━━━━━━━━━━━━━━━━━━━━━━━━━━━━━━━━━━━━\u001b[0m \u001b[32m137.8/137.8 kB\u001b[0m \u001b[31m13.9 MB/s\u001b[0m eta \u001b[36m0:00:00\u001b[0m\n",
            "\u001b[?25hRequirement already satisfied: python-dateutil>=2.7.3 in /usr/local/lib/python3.10/dist-packages (from pandas==1.3.5->mindsdb_sdk) (2.8.2)\n",
            "Requirement already satisfied: pytz>=2017.3 in /usr/local/lib/python3.10/dist-packages (from pandas==1.3.5->mindsdb_sdk) (2022.7.1)\n",
            "Requirement already satisfied: numpy>=1.21.0 in /usr/local/lib/python3.10/dist-packages (from pandas==1.3.5->mindsdb_sdk) (1.22.4)\n",
            "Collecting sly>=0.4 (from mindsdb-sql<0.7.0,>=0.6.1->mindsdb_sdk)\n",
            "  Downloading sly-0.5-py3-none-any.whl (28 kB)\n",
            "Requirement already satisfied: pytest>=5.4.3 in /usr/local/lib/python3.10/dist-packages (from mindsdb-sql<0.7.0,>=0.6.1->mindsdb_sdk) (7.2.2)\n",
            "Collecting sqlalchemy<2.0.0,>=1.4.29 (from mindsdb-sql<0.7.0,>=0.6.1->mindsdb_sdk)\n",
            "  Downloading SQLAlchemy-1.4.49-cp310-cp310-manylinux_2_5_x86_64.manylinux1_x86_64.manylinux_2_17_x86_64.manylinux2014_x86_64.whl (1.6 MB)\n",
            "\u001b[2K     \u001b[90m━━━━━━━━━━━━━━━━━━━━━━━━━━━━━━━━━━━━━━━━\u001b[0m \u001b[32m1.6/1.6 MB\u001b[0m \u001b[31m88.5 MB/s\u001b[0m eta \u001b[36m0:00:00\u001b[0m\n",
            "\u001b[?25hRequirement already satisfied: urllib3<1.27,>=1.21.1 in /usr/local/lib/python3.10/dist-packages (from requests->mindsdb_sdk) (1.26.16)\n",
            "Requirement already satisfied: certifi>=2017.4.17 in /usr/local/lib/python3.10/dist-packages (from requests->mindsdb_sdk) (2023.5.7)\n",
            "Requirement already satisfied: charset-normalizer~=2.0.0 in /usr/local/lib/python3.10/dist-packages (from requests->mindsdb_sdk) (2.0.12)\n",
            "Requirement already satisfied: idna<4,>=2.5 in /usr/local/lib/python3.10/dist-packages (from requests->mindsdb_sdk) (3.4)\n",
            "Requirement already satisfied: attrs>=19.2.0 in /usr/local/lib/python3.10/dist-packages (from pytest>=5.4.3->mindsdb-sql<0.7.0,>=0.6.1->mindsdb_sdk) (23.1.0)\n",
            "Requirement already satisfied: iniconfig in /usr/local/lib/python3.10/dist-packages (from pytest>=5.4.3->mindsdb-sql<0.7.0,>=0.6.1->mindsdb_sdk) (2.0.0)\n",
            "Requirement already satisfied: packaging in /usr/local/lib/python3.10/dist-packages (from pytest>=5.4.3->mindsdb-sql<0.7.0,>=0.6.1->mindsdb_sdk) (23.1)\n",
            "Requirement already satisfied: pluggy<2.0,>=0.12 in /usr/local/lib/python3.10/dist-packages (from pytest>=5.4.3->mindsdb-sql<0.7.0,>=0.6.1->mindsdb_sdk) (1.2.0)\n",
            "Requirement already satisfied: exceptiongroup>=1.0.0rc8 in /usr/local/lib/python3.10/dist-packages (from pytest>=5.4.3->mindsdb-sql<0.7.0,>=0.6.1->mindsdb_sdk) (1.1.1)\n",
            "Requirement already satisfied: tomli>=1.0.0 in /usr/local/lib/python3.10/dist-packages (from pytest>=5.4.3->mindsdb-sql<0.7.0,>=0.6.1->mindsdb_sdk) (2.0.1)\n",
            "Requirement already satisfied: six>=1.5 in /usr/local/lib/python3.10/dist-packages (from python-dateutil>=2.7.3->pandas==1.3.5->mindsdb_sdk) (1.16.0)\n",
            "Requirement already satisfied: greenlet!=0.4.17 in /usr/local/lib/python3.10/dist-packages (from sqlalchemy<2.0.0,>=1.4.29->mindsdb-sql<0.7.0,>=0.6.1->mindsdb_sdk) (2.0.2)\n",
            "Building wheels for collected packages: mindsdb_sdk\n",
            "  Building wheel for mindsdb_sdk (setup.py) ... \u001b[?25l\u001b[?25hdone\n",
            "  Created wheel for mindsdb_sdk: filename=mindsdb_sdk-1.0.4-py3-none-any.whl size=15881 sha256=c7e3ec7b91d4725408027afd0a86b69d40ab9e604871f72be78f55154271f669\n",
            "  Stored in directory: /root/.cache/pip/wheels/67/f6/87/bf2bbfc37e7e07170bf3f925135f288a3f874f3bc0bfb48012\n",
            "Successfully built mindsdb_sdk\n",
            "Installing collected packages: sly, sqlalchemy, pandas, mindsdb-sql, mindsdb_sdk\n",
            "  Attempting uninstall: sqlalchemy\n",
            "    Found existing installation: SQLAlchemy 2.0.16\n",
            "    Uninstalling SQLAlchemy-2.0.16:\n",
            "      Successfully uninstalled SQLAlchemy-2.0.16\n",
            "  Attempting uninstall: pandas\n",
            "    Found existing installation: pandas 1.5.3\n",
            "    Uninstalling pandas-1.5.3:\n",
            "      Successfully uninstalled pandas-1.5.3\n",
            "\u001b[31mERROR: pip's dependency resolver does not currently take into account all the packages that are installed. This behaviour is the source of the following dependency conflicts.\n",
            "google-colab 1.0.0 requires pandas==1.5.3, but you have pandas 1.3.5 which is incompatible.\u001b[0m\u001b[31m\n",
            "\u001b[0mSuccessfully installed mindsdb-sql-0.6.5 mindsdb_sdk-1.0.4 pandas-1.3.5 sly-0.5 sqlalchemy-1.4.49\n"
          ]
        }
      ],
      "source": [
        "!pip install mindsdb_sdk\n",
        "\n",
        "import time\n",
        "import mindsdb_sdk\n"
      ]
    },
    {
      "cell_type": "markdown",
      "source": [
        "## **Connect to MindsDB**\n",
        "\n",
        "**Before performing any operations, you must connect to MindsDB**. By default, all operations will go through [MindsDB Cloud](https://cloud.mindsdb.com/) REST APIs, but you can use a self-hosted version of MindsDB and [MindsDB Pro](https://cloud.mindsdb.com/upgrade-pro) too."
      ],
      "metadata": {
        "id": "fkggHP6_GMo8"
      }
    },
    {
      "cell_type": "markdown",
      "source": [
        "### MindsDB Cloud\n",
        "\n",
        "\n"
      ],
      "metadata": {
        "id": "hc8y7cr_rjUh"
      }
    },
    {
      "cell_type": "code",
      "source": [
        "from getpass import getpass\n",
        "username = '' # Use the email that you log in to MindsDB with.\n",
        "password = getpass('Enter your MindsDB password: ')\n",
        "\n",
        "server=mindsdb_sdk.connect(login=username, password=password)\n",
        "\n",
        "print('Connected to MindsDB')"
      ],
      "metadata": {
        "colab": {
          "base_uri": "https://localhost:8080/"
        },
        "id": "e0EXmjkwPIhq",
        "outputId": "4e116fd5-9440-4e0d-b090-19ce3bbee338"
      },
      "execution_count": null,
      "outputs": [
        {
          "output_type": "stream",
          "name": "stdout",
          "text": [
            "Enter your MindsDB password: ··········\n",
            "Connected to MindsDB\n"
          ]
        }
      ]
    },
    {
      "cell_type": "markdown",
      "source": [
        "### MindsDB Pro"
      ],
      "metadata": {
        "id": "A9phgxZXRmDR"
      }
    },
    {
      "cell_type": "code",
      "source": [
        "from getpass import getpass\n",
        "username = 'admin'\n",
        "password = getpass('Enter your MindsDB Pro instance password: ')\n",
        "pro_ip = 'http://127.0.0.1'  # Replace with the dedicated public IP for your MindsDB instance.\n",
        "\n",
        "server=mindsdb_sdk.connect(url=pro_ip, login=username, password=password, is_managed=True)\n",
        "\n",
        "print('Connected to MindsDB Pro')"
      ],
      "metadata": {
        "id": "Pq6YghpaR0tz"
      },
      "execution_count": null,
      "outputs": []
    },
    {
      "cell_type": "markdown",
      "source": [
        "### MindsDB Managed Instances"
      ],
      "metadata": {
        "id": "Kzqvn2jWzLny"
      }
    },
    {
      "cell_type": "code",
      "source": [
        "from getpass import getpass\n",
        "username = 'admin'\n",
        "password = getpass('Enter your MindsDB managed instance password: ')\n",
        "url = 'https://myinstance.managed.mindsdb.com'  # Replace with the dedicated URL for your managed instance.\n",
        "\n",
        "server=mindsdb_sdk.connect(url=url, login=username, password=password, is_managed=True)\n",
        "\n",
        "print('Connected to MindsDB managed instance')"
      ],
      "metadata": {
        "id": "iYTHyIVLzIyD"
      },
      "execution_count": null,
      "outputs": []
    },
    {
      "cell_type": "markdown",
      "source": [
        "### MindsDB Running Locally\n",
        "\n",
        "Check out [our docs](https://docs.mindsdb.com/setup/self-hosted/docker) for full instructions on how to run MindsDB locally.\n",
        "\n",
        "It can be run from:\n",
        "- [pip](https://github.com/mindsdb/mindsdb)\n",
        "- [source](https://pypi.org/project/MindsDB/)\n",
        "- [Docker](https://docs.mindsdb.com/setup/self-hosted/docker)"
      ],
      "metadata": {
        "id": "YpY53kb9cw4a"
      }
    },
    {
      "cell_type": "code",
      "source": [
        "# NOTE: This example is unable to connect to your local MindsDB instance. This is just so you can see how it would be done.\n",
        "\n",
        "# To connect to localhost and default port (47334)\n",
        "server=mindsdb_sdk.connect()\n",
        "\n",
        "# To specify host and port yourself\n",
        "server=mindsdb_sdk.connect(url='http://127.0.0.1:1111/')\n",
        "\n",
        "print('Connected to MindsDB running locally')"
      ],
      "metadata": {
        "id": "_NM5Yf02Gmbt"
      },
      "execution_count": null,
      "outputs": []
    },
    {
      "cell_type": "markdown",
      "source": [
        "## **Connect Your Data to MindsDB**\n",
        "\n",
        "You can connect to [many database integrations](https://docs.mindsdb.com/data-integrations/all-data-integrations) through MindsDB. We'll show you how to get started by connecting to Postgres or MySQL.\n",
        "\n",
        "If you want to re-run these examples, make sure you delete your databases you previously created first:"
      ],
      "metadata": {
        "id": "Ix7XM4HsGnHp"
      }
    },
    {
      "cell_type": "code",
      "source": [
        "# Uncomment the lines below to drop the databases you create in the below examples.\n",
        "# server.drop_database('example_db')\n",
        "# server.drop_database('mysql_demo_db')\n"
      ],
      "metadata": {
        "id": "G7dq-mvbHGsO"
      },
      "execution_count": null,
      "outputs": []
    },
    {
      "cell_type": "markdown",
      "source": [
        "### Postgres\n",
        "\n",
        "\n"
      ],
      "metadata": {
        "id": "EEgeLfjgiOOB"
      }
    },
    {
      "cell_type": "code",
      "source": [
        "print('Creating example_db database')\n",
        "\n",
        "example_db = server.create_database(\n",
        "    engine=\"postgres\",\n",
        "    name=\"example_db\",\n",
        "    connection_args={\n",
        "      \"user\": \"demo_user\",\n",
        "      \"password\": \"demo_password\",\n",
        "      \"host\": \"3.220.66.106\",\n",
        "      \"port\": \"5432\",\n",
        "      \"database\": \"demo\"\n",
        "    }\n",
        ")\n",
        "\n",
        "print('Database:', example_db)"
      ],
      "metadata": {
        "id": "tRJVeMpCG_e5"
      },
      "execution_count": null,
      "outputs": []
    },
    {
      "cell_type": "markdown",
      "source": [
        "### MySQL"
      ],
      "metadata": {
        "id": "KY8s4uopG0di"
      }
    },
    {
      "cell_type": "code",
      "source": [
        "print('Creating mysql_demo_db database')\n",
        "\n",
        "mysql_demo_db = server.create_database(\n",
        "    engine=\"mysql\",\n",
        "    name=\"mysql_demo_db\",\n",
        "    connection_args={\n",
        "      \"user\": \"user\",\n",
        "      \"password\": \"MindsDBUser123!\",\n",
        "      \"host\": \"db-demo-data.cwoyhfn6bzs0.us-east-1.rds.amazonaws.com\",\n",
        "      \"port\": \"3306\",\n",
        "      \"database\": \"public\"\n",
        "    }\n",
        ")\n",
        "\n",
        "print('Database:', mysql_demo_db)"
      ],
      "metadata": {
        "colab": {
          "base_uri": "https://localhost:8080/"
        },
        "id": "0-K_jkZxS2Iy",
        "outputId": "e32996c6-4f92-49f4-b479-a5f8efd770d8"
      },
      "execution_count": null,
      "outputs": [
        {
          "output_type": "stream",
          "name": "stdout",
          "text": [
            "Creating mysql_demo_db database\n",
            "Database: Database(mysql_demo_db)\n"
          ]
        }
      ]
    },
    {
      "cell_type": "markdown",
      "source": [
        "### Getting Databases"
      ],
      "metadata": {
        "id": "-iyoPdpF2wjX"
      }
    },
    {
      "cell_type": "code",
      "source": [
        "# Get all databases.\n",
        "all_dbs = server.list_databases()\n",
        "db_names = [i.name for i in all_dbs]\n",
        "\n",
        "if 'example_db' in db_names:\n",
        "  example_db = server.get_database('example_db')\n",
        "  print('Got example_db:')\n",
        "  print(example_db)\n",
        "\n",
        "# Or, you can use this method:\n",
        "try:\n",
        "  mysql_demo_db = server.get_database('mysql_demo_db')\n",
        "  print('Got mysql_demo_db:')\n",
        "  print(mysql_demo_db)\n",
        "except AttributeError:\n",
        "  print('mysql_demo_db does not exist')"
      ],
      "metadata": {
        "colab": {
          "base_uri": "https://localhost:8080/"
        },
        "id": "8rNwd7J82vmI",
        "outputId": "a00d9642-60df-4645-8796-d57ffd31be1b"
      },
      "execution_count": null,
      "outputs": [
        {
          "output_type": "stream",
          "name": "stdout",
          "text": [
            "Got example_db:\n",
            "Database(example_db)\n",
            "Got mysql_demo_db:\n",
            "Database(mysql_demo_db)\n"
          ]
        }
      ]
    },
    {
      "cell_type": "markdown",
      "source": [
        "## **Working With Models**"
      ],
      "metadata": {
        "id": "O2BDcb_XtmgI"
      }
    },
    {
      "cell_type": "markdown",
      "source": [
        "### Prepare Training Data:\n",
        "\n",
        "Make sure you run both examples above for connecting your data to MindsDB. The example_db and mysql_demo_db databases need to exist for the below example to work."
      ],
      "metadata": {
        "id": "Vh0cDUiqoFUg"
      }
    },
    {
      "cell_type": "code",
      "source": [
        "# Get the default project for creating a model\n",
        "project = server.get_project()\n",
        "\n",
        "# Get our training data:\n",
        "\n",
        "# home_rentals data\n",
        "rentals_table = example_db.get_table('demo_data.home_rentals')\n",
        "print('First 3 rows of home_rentals:')\n",
        "print(rentals_table.limit(3).fetch())\n",
        "\n",
        "# user_comments data\n",
        "user_comments = example_db.get_table('demo_data.user_comments')\n",
        "print('\\n\\nFirst 3 rows of user_comments:')\n",
        "print(user_comments.limit(3).fetch())\n",
        "\n",
        "# amazon_reviews data\n",
        "amazon_reviews = mysql_demo_db.get_table('amazon_reviews')\n",
        "print('\\n\\nFirst 3 rows of namazon_reviews:')\n",
        "print(amazon_reviews.limit(3).fetch())"
      ],
      "metadata": {
        "colab": {
          "base_uri": "https://localhost:8080/"
        },
        "id": "IPGv1qJEn_Rh",
        "outputId": "8af2e531-7651-4345-ac46-49a18fde340c"
      },
      "execution_count": null,
      "outputs": [
        {
          "output_type": "stream",
          "name": "stdout",
          "text": [
            "First 3 rows of home_rentals:\n",
            "   number_of_rooms  number_of_bathrooms  sqft location  days_on_market  \\\n",
            "0                2                    1   917    great              13   \n",
            "1                0                    1   194    great              10   \n",
            "2                1                    1   543     poor              18   \n",
            "\n",
            "     neighborhood  rental_price  \n",
            "0  berkeley_hills          3901  \n",
            "1  berkeley_hills          2042  \n",
            "2        westbrae          1871  \n",
            "\n",
            "\n",
            "First 3 rows of user_comments:\n",
            "                    comment\n",
            "0              I hate tacos\n",
            "1           I want to dance\n",
            "2  Baking is not a big deal\n",
            "\n",
            "\n",
            "First 3 rows of namazon_reviews:\n",
            "                                        product_name  \\\n",
            "0  All-New Fire HD 8 Tablet, 8 HD Display, Wi-Fi,...   \n",
            "1  All-New Fire HD 8 Tablet, 8 HD Display, Wi-Fi,...   \n",
            "2  All-New Fire HD 8 Tablet, 8 HD Display, Wi-Fi,...   \n",
            "\n",
            "                                              review  \n",
            "0  Late gift for my grandson. He is very happy wi...  \n",
            "1  I'm not super thrilled with the proprietary OS...  \n",
            "2  I purchased this Kindle Fire HD 8 was purchase...  \n"
          ]
        }
      ]
    },
    {
      "cell_type": "markdown",
      "source": [
        "### Train Home Rental Price Model (Regression)\n",
        "\n",
        "If you want to re-run this example, make sure you drop the `home_rentals_model` first by running the below code"
      ],
      "metadata": {
        "id": "2S9VtVQHH8Jx"
      }
    },
    {
      "cell_type": "code",
      "source": [
        "# Uncomment to drop home_rentals_model model\n",
        "# project.drop_model('home_rentals_model')"
      ],
      "metadata": {
        "id": "22ncYxxlIay8"
      },
      "execution_count": null,
      "outputs": []
    },
    {
      "cell_type": "code",
      "source": [
        "# Get all models.\n",
        "model_names = [i.name for i in  project.list_models()]\n",
        "\n",
        "if 'home_rentals_model' in model_names:\n",
        "  print('home_rentals_model already exists. Returning existing model')\n",
        "  home_rentals_model = project.get_model('home_rentals_model')\n",
        "\n",
        "else:\n",
        "  print('Creating home_rentals_model model')\n",
        "\n",
        "  home_rentals_model = project.create_model(\n",
        "      name='home_rentals_model',\n",
        "      predict='rental_price',\n",
        "      query = rentals_table\n",
        "  )\n",
        "  print('Created home_rentals_model successfully:')\n",
        "  print(home_rentals_model)\n",
        "\n",
        "\n",
        "  print('Waiting for model training to complete...please be patient')\n",
        "  for i in range(400):\n",
        "    print('.', end='')\n",
        "    time.sleep(0.5)\n",
        "\n",
        "    if home_rentals_model.get_status() not in ('generating', 'training'):\n",
        "      print('\\nFinished training home_rentals_model:')\n",
        "      break\n",
        "\n",
        "print(home_rentals_model.data)\n",
        "\n",
        "if home_rentals_model.get_status() == 'error':\n",
        "  print('Something went wrong while training:')\n",
        "  print(home_rentals_model.data['error'])"
      ],
      "metadata": {
        "id": "MloOKFHXIXpz",
        "colab": {
          "base_uri": "https://localhost:8080/"
        },
        "outputId": "8febab6a-4281-4ce6-bb71-390de1c364ff"
      },
      "execution_count": null,
      "outputs": [
        {
          "output_type": "stream",
          "name": "stdout",
          "text": [
            "Creating home_rentals_model model\n",
            "Created home_rentals_model successfully:\n",
            "Model(home_rentals_model, status=generating)\n",
            "Waiting for model training to complete...please be patient\n",
            ".................................................Finished training home_rentals_model:\n",
            "{'name': 'home_rentals_model', 'engine': 'lightwood', 'project': 'mindsdb', 'version': 1, 'status': 'complete', 'accuracy': 0.999, 'predict': 'rental_price', 'update_status': 'up_to_date', 'mindsdb_version': '23.4.3.2', 'error': None, 'select_data_query': 'SELECT * FROM demo_data.home_rentals', 'training_options': \"{'target': 'rental_price'}\", 'current_training_phase': 5.0, 'total_training_phases': 5.0, 'training_phase_name': 'Complete', 'tag': None, 'created_at': '2023-04-19 19:34:19.641627'}\n"
          ]
        }
      ]
    },
    {
      "cell_type": "markdown",
      "source": [
        "### Query Home Rental Price Model"
      ],
      "metadata": {
        "id": "AhNKUcvYq11z"
      }
    },
    {
      "cell_type": "code",
      "source": [
        "# Get first 3 rows\n",
        "rentals_table_limit = rentals_table.limit(3)\n",
        "\n",
        "print('Making prediction on the first 3 rows of home_rentals table')\n",
        "ret = home_rentals_model.predict(rentals_table_limit)\n",
        "\n",
        "print(ret[['number_of_rooms', 'number_of_bathrooms', 'rental_price']])"
      ],
      "metadata": {
        "colab": {
          "base_uri": "https://localhost:8080/"
        },
        "id": "k6IbwsKRPQCR",
        "outputId": "3feb0e1f-cfa6-4a55-ba2d-11f408a54da1"
      },
      "execution_count": null,
      "outputs": [
        {
          "output_type": "stream",
          "name": "stdout",
          "text": [
            "Making prediction on the first 3 rows of home_rentals table\n",
            "   number_of_rooms  number_of_bathrooms  rental_price\n",
            "0                2                    1          3898\n",
            "1                0                    1          2044\n",
            "2                1                    1          1864\n"
          ]
        }
      ]
    },
    {
      "cell_type": "markdown",
      "source": [
        "You can also query a model (i.e. make predictions) using a dataframe directly:"
      ],
      "metadata": {
        "id": "KWwRyvDnsdwz"
      }
    },
    {
      "cell_type": "code",
      "source": [
        "# Get table as a dataframe\n",
        "df = rentals_table.fetch()\n",
        "\n",
        "# Get first 3 rows\n",
        "df = df[:3]\n",
        "\n",
        "print('Making prediction on the first 3 rows of home_rentals table using dataframe:')\n",
        "ret = home_rentals_model.predict(df)\n",
        "print(ret[['number_of_rooms', 'number_of_bathrooms', 'rental_price']])"
      ],
      "metadata": {
        "colab": {
          "base_uri": "https://localhost:8080/"
        },
        "id": "W0OcrRhMsf19",
        "outputId": "3d055d9a-813f-4833-8007-e4c20f877aa6"
      },
      "execution_count": null,
      "outputs": [
        {
          "output_type": "stream",
          "name": "stdout",
          "text": [
            "Making prediction on the first 3 rows of home_rentals table using dataframe:\n",
            "   number_of_rooms  number_of_bathrooms  rental_price\n",
            "0                2                    1          3898\n",
            "1                0                    1          2044\n",
            "2                1                    1          1864\n"
          ]
        }
      ]
    },
    {
      "cell_type": "markdown",
      "source": [
        "### Train Sentiment Analysis Model for User Comments (Huggingface)\n",
        "\n",
        "See our [docs for more information on NLP & Huggingface](https://docs.mindsdb.com/nlp/nlp-mindsdb-hf)\n",
        "\n",
        "\n",
        "If you want to re-run this example, make sure you drop `sentiment_classifier` first by running the below code"
      ],
      "metadata": {
        "id": "IZM5sLHTvq51"
      }
    },
    {
      "cell_type": "code",
      "source": [
        "# Uncomment to drop model\n",
        "# project.drop_model('sentiment_classifier')"
      ],
      "metadata": {
        "id": "kP8ejYbys-q2"
      },
      "execution_count": null,
      "outputs": []
    },
    {
      "cell_type": "code",
      "source": [
        "# Get all models.\n",
        "model_names = [i.name for i in  project.list_models()]\n",
        "\n",
        "if 'sentiment_classifier' in model_names:\n",
        "  print('sentiment_classifier already exists. Returning existing model')\n",
        "  sentiment_classifier = project.get_model('sentiment_classifier')\n",
        "\n",
        "else:\n",
        "  print('Creating sentiment_classifier model')\n",
        "\n",
        "  sentiment_classifier = project.create_model(\n",
        "        name='sentiment_classifier',\n",
        "        engine='huggingface',\n",
        "        predict='sentiment',\n",
        "        options={\n",
        "            'model_name':'cardiffnlp/twitter-roberta-base-sentiment',\n",
        "            'input_column': 'comment',\n",
        "            'labels': ['negative', 'neutral', 'positive']\n",
        "        }\n",
        "  )\n",
        "  print('Created sentiment_classifier model successfully:')\n",
        "  print(sentiment_classifier)\n",
        "\n",
        "  print('Waiting for model training to complete...please be patient')\n",
        "  for i in range(400):\n",
        "    print('.', end='')\n",
        "    time.sleep(0.5)\n",
        "\n",
        "    if sentiment_classifier.get_status() not in ('generating', 'training'):\n",
        "      print('\\nFinished training sentiment_classifier model')\n",
        "      break\n",
        "\n",
        "print(sentiment_classifier.data)\n",
        "\n",
        "if sentiment_classifier.get_status() == 'error':\n",
        "  print('Something went wrong while training:')\n",
        "  print(sentiment_classifier.data['error'])"
      ],
      "metadata": {
        "colab": {
          "base_uri": "https://localhost:8080/"
        },
        "id": "Cuz6yTeEv6kf",
        "outputId": "97b1d3c4-c9e4-487d-e3ee-8159b3f0fdef"
      },
      "execution_count": null,
      "outputs": [
        {
          "output_type": "stream",
          "name": "stdout",
          "text": [
            "Creating sentiment_classifier model\n",
            "Created sentiment_classifier model successfully:\n",
            "Model(sentiment_classifier, status=generating)\n",
            "Waiting for model training to complete...please be patient\n",
            "..................................................\n",
            "Finished training sentiment_classifier model\n",
            "{'name': 'sentiment_classifier', 'engine': 'huggingface', 'project': 'mindsdb', 'version': 1, 'status': 'complete', 'accuracy': None, 'predict': 'sentiment', 'update_status': 'up_to_date', 'mindsdb_version': '23.4.3.2', 'error': None, 'select_data_query': None, 'training_options': \"{'target': 'sentiment', 'using': {'model_name': 'cardiffnlp/twitter-roberta-base-sentiment', 'input_column': 'comment', 'labels': ['negative', 'neutral', 'positive'], 'task': 'text-classification'}}\", 'current_training_phase': None, 'total_training_phases': None, 'training_phase_name': None, 'tag': None, 'created_at': '2023-04-19 19:35:37.654281'}\n"
          ]
        }
      ]
    },
    {
      "cell_type": "markdown",
      "source": [
        "### Query Sentiment Analysis Model (Huggingface)"
      ],
      "metadata": {
        "id": "cbl5p4r414RM"
      }
    },
    {
      "cell_type": "code",
      "source": [
        "# Get first 3 rows\n",
        "user_comments_limit = user_comments.limit(3)\n",
        "\n",
        "print('Making sentiment prediction on the first 3 rows of user_comments table')\n",
        "ret = sentiment_classifier.predict(user_comments_limit)\n",
        "\n",
        "print(ret)"
      ],
      "metadata": {
        "colab": {
          "base_uri": "https://localhost:8080/"
        },
        "id": "eOW-1nlYthOj",
        "outputId": "d1c66620-7701-4040-b586-822bd2932e8c"
      },
      "execution_count": null,
      "outputs": [
        {
          "output_type": "stream",
          "name": "stdout",
          "text": [
            "Making sentiment prediction on the first 3 rows of user_comments table\n",
            "  sentiment                                  sentiment_explain\n",
            "0  negative  {'negative': 0.9679920077323914, 'neutral': 0....\n",
            "1  positive  {'positive': 0.7607282400131226, 'neutral': 0....\n",
            "2   neutral  {'neutral': 0.6607710123062134, 'negative': 0....\n"
          ]
        }
      ]
    },
    {
      "cell_type": "markdown",
      "source": [
        "You can also query a model (i.e. make predictions) using a dataframe directly:"
      ],
      "metadata": {
        "id": "HLOpKCGIthjB"
      }
    },
    {
      "cell_type": "code",
      "source": [
        "# Get table as a dataframe.\n",
        "df = user_comments.fetch()\n",
        "\n",
        "# Get first 3 rows.\n",
        "df = df[:3]\n",
        "\n",
        "print('Making sentiment prediction on the first 3 rows of user_comments table using dataframe')\n",
        "ret = sentiment_classifier.predict(df)\n",
        "print(ret)"
      ],
      "metadata": {
        "colab": {
          "base_uri": "https://localhost:8080/"
        },
        "id": "v9dfVPYU15ab",
        "outputId": "fe6a8725-a4b9-4677-d6b8-3253fe083a15"
      },
      "execution_count": null,
      "outputs": [
        {
          "output_type": "stream",
          "name": "stdout",
          "text": [
            "Making sentiment prediction on the first 3 rows of user_comments table using dataframe\n",
            "  sentiment                                  sentiment_explain\n",
            "0  negative  {'negative': 0.9679920077323914, 'neutral': 0....\n",
            "1  positive  {'negative': 0.006005274597555399, 'neutral': ...\n",
            "2   neutral  {'negative': 0.24184803664684296, 'neutral': 0...\n"
          ]
        }
      ]
    },
    {
      "cell_type": "markdown",
      "source": [
        "### Train Sentiment Analysis Model for Amazon Reviews (OpenAI)\n",
        "\n",
        "See our [docs for more information on NLP & OpenAI](https://docs.mindsdb.com/nlp/nlp-mindsdb-openai)\n",
        "\n",
        "\n",
        "If you want to re-run this example, make sure you drop `sentiment_classifier_gpt3` first by running the below code"
      ],
      "metadata": {
        "id": "kbXlIgfR4kUa"
      }
    },
    {
      "cell_type": "code",
      "source": [
        "# Uncomment to drop model\n",
        "# project.drop_model('sentiment_classifier_gpt3')"
      ],
      "metadata": {
        "id": "4_yeJ8lcvPf3",
        "colab": {
          "base_uri": "https://localhost:8080/",
          "height": 328
        },
        "outputId": "6f6b97a0-6d40-47ee-baa5-399b030a005d"
      },
      "execution_count": null,
      "outputs": [
        {
          "output_type": "error",
          "ename": "RuntimeError",
          "evalue": "ignored",
          "traceback": [
            "\u001b[0;31m---------------------------------------------------------------------------\u001b[0m",
            "\u001b[0;31mRuntimeError\u001b[0m                              Traceback (most recent call last)",
            "\u001b[0;32m<ipython-input-26-709c1ab77d89>\u001b[0m in \u001b[0;36m<cell line: 2>\u001b[0;34m()\u001b[0m\n\u001b[1;32m      1\u001b[0m \u001b[0;31m# Uncomment to drop model\u001b[0m\u001b[0;34m\u001b[0m\u001b[0;34m\u001b[0m\u001b[0m\n\u001b[0;32m----> 2\u001b[0;31m \u001b[0mproject\u001b[0m\u001b[0;34m.\u001b[0m\u001b[0mdrop_model\u001b[0m\u001b[0;34m(\u001b[0m\u001b[0;34m'sentiment_classifier_gpt3'\u001b[0m\u001b[0;34m)\u001b[0m\u001b[0;34m\u001b[0m\u001b[0;34m\u001b[0m\u001b[0m\n\u001b[0m",
            "\u001b[0;32m/usr/local/lib/python3.9/dist-packages/mindsdb_sdk/project.py\u001b[0m in \u001b[0;36mdrop_model\u001b[0;34m(self, name)\u001b[0m\n\u001b[1;32m    437\u001b[0m         \"\"\"\n\u001b[1;32m    438\u001b[0m         \u001b[0mast_query\u001b[0m \u001b[0;34m=\u001b[0m \u001b[0mDropPredictor\u001b[0m\u001b[0;34m(\u001b[0m\u001b[0mname\u001b[0m\u001b[0;34m=\u001b[0m\u001b[0mname\u001b[0m\u001b[0;34m)\u001b[0m\u001b[0;34m\u001b[0m\u001b[0;34m\u001b[0m\u001b[0m\n\u001b[0;32m--> 439\u001b[0;31m         \u001b[0mself\u001b[0m\u001b[0;34m.\u001b[0m\u001b[0mquery\u001b[0m\u001b[0;34m(\u001b[0m\u001b[0mast_query\u001b[0m\u001b[0;34m.\u001b[0m\u001b[0mto_string\u001b[0m\u001b[0;34m(\u001b[0m\u001b[0;34m)\u001b[0m\u001b[0;34m)\u001b[0m\u001b[0;34m.\u001b[0m\u001b[0mfetch\u001b[0m\u001b[0;34m(\u001b[0m\u001b[0;34m)\u001b[0m\u001b[0;34m\u001b[0m\u001b[0;34m\u001b[0m\u001b[0m\n\u001b[0m\u001b[1;32m    440\u001b[0m \u001b[0;34m\u001b[0m\u001b[0m\n\u001b[1;32m    441\u001b[0m     \u001b[0;32mdef\u001b[0m \u001b[0mdrop_model_version\u001b[0m\u001b[0;34m(\u001b[0m\u001b[0mself\u001b[0m\u001b[0;34m,\u001b[0m \u001b[0mname\u001b[0m\u001b[0;34m:\u001b[0m \u001b[0mstr\u001b[0m\u001b[0;34m,\u001b[0m \u001b[0mversion\u001b[0m\u001b[0;34m:\u001b[0m \u001b[0mint\u001b[0m\u001b[0;34m)\u001b[0m\u001b[0;34m:\u001b[0m\u001b[0;34m\u001b[0m\u001b[0;34m\u001b[0m\u001b[0m\n",
            "\u001b[0;32m/usr/local/lib/python3.9/dist-packages/mindsdb_sdk/query.py\u001b[0m in \u001b[0;36mfetch\u001b[0;34m(self)\u001b[0m\n\u001b[1;32m     27\u001b[0m         \u001b[0;34m:\u001b[0m\u001b[0;32mreturn\u001b[0m\u001b[0;34m:\u001b[0m \u001b[0mdataframe\u001b[0m \u001b[0;32mwith\u001b[0m \u001b[0mresult\u001b[0m\u001b[0;34m\u001b[0m\u001b[0;34m\u001b[0m\u001b[0m\n\u001b[1;32m     28\u001b[0m         \"\"\"\n\u001b[0;32m---> 29\u001b[0;31m         \u001b[0;32mreturn\u001b[0m \u001b[0mself\u001b[0m\u001b[0;34m.\u001b[0m\u001b[0mapi\u001b[0m\u001b[0;34m.\u001b[0m\u001b[0msql_query\u001b[0m\u001b[0;34m(\u001b[0m\u001b[0mself\u001b[0m\u001b[0;34m.\u001b[0m\u001b[0msql\u001b[0m\u001b[0;34m,\u001b[0m \u001b[0mself\u001b[0m\u001b[0;34m.\u001b[0m\u001b[0mdatabase\u001b[0m\u001b[0;34m)\u001b[0m\u001b[0;34m\u001b[0m\u001b[0;34m\u001b[0m\u001b[0m\n\u001b[0m\u001b[1;32m     30\u001b[0m \u001b[0;34m\u001b[0m\u001b[0m\n\u001b[1;32m     31\u001b[0m \u001b[0;34m\u001b[0m\u001b[0m\n",
            "\u001b[0;32m/usr/local/lib/python3.9/dist-packages/mindsdb_sdk/connectors/rest_api.py\u001b[0m in \u001b[0;36mwrapper\u001b[0;34m(self, *args, **kwargs)\u001b[0m\n\u001b[1;32m      9\u001b[0m     \u001b[0;32mdef\u001b[0m \u001b[0mwrapper\u001b[0m\u001b[0;34m(\u001b[0m\u001b[0mself\u001b[0m\u001b[0;34m,\u001b[0m \u001b[0;34m*\u001b[0m\u001b[0margs\u001b[0m\u001b[0;34m,\u001b[0m \u001b[0;34m**\u001b[0m\u001b[0mkwargs\u001b[0m\u001b[0;34m)\u001b[0m\u001b[0;34m:\u001b[0m\u001b[0;34m\u001b[0m\u001b[0;34m\u001b[0m\u001b[0m\n\u001b[1;32m     10\u001b[0m         \u001b[0;32mtry\u001b[0m\u001b[0;34m:\u001b[0m\u001b[0;34m\u001b[0m\u001b[0;34m\u001b[0m\u001b[0m\n\u001b[0;32m---> 11\u001b[0;31m             \u001b[0;32mreturn\u001b[0m \u001b[0mfnc\u001b[0m\u001b[0;34m(\u001b[0m\u001b[0mself\u001b[0m\u001b[0;34m,\u001b[0m \u001b[0;34m*\u001b[0m\u001b[0margs\u001b[0m\u001b[0;34m,\u001b[0m \u001b[0;34m**\u001b[0m\u001b[0mkwargs\u001b[0m\u001b[0;34m)\u001b[0m\u001b[0;34m\u001b[0m\u001b[0;34m\u001b[0m\u001b[0m\n\u001b[0m\u001b[1;32m     12\u001b[0m         \u001b[0;32mexcept\u001b[0m \u001b[0mrequests\u001b[0m\u001b[0;34m.\u001b[0m\u001b[0mHTTPError\u001b[0m \u001b[0;32mas\u001b[0m \u001b[0me\u001b[0m\u001b[0;34m:\u001b[0m\u001b[0;34m\u001b[0m\u001b[0;34m\u001b[0m\u001b[0m\n\u001b[1;32m     13\u001b[0m             \u001b[0;32mif\u001b[0m \u001b[0me\u001b[0m\u001b[0;34m.\u001b[0m\u001b[0mresponse\u001b[0m\u001b[0;34m.\u001b[0m\u001b[0mstatus_code\u001b[0m \u001b[0;34m!=\u001b[0m \u001b[0;36m401\u001b[0m\u001b[0;34m:\u001b[0m\u001b[0;34m\u001b[0m\u001b[0;34m\u001b[0m\u001b[0m\n",
            "\u001b[0;32m/usr/local/lib/python3.9/dist-packages/mindsdb_sdk/connectors/rest_api.py\u001b[0m in \u001b[0;36msql_query\u001b[0;34m(self, sql, database, lowercase_columns)\u001b[0m\n\u001b[1;32m     76\u001b[0m             \u001b[0;32mreturn\u001b[0m \u001b[0mpd\u001b[0m\u001b[0;34m.\u001b[0m\u001b[0mDataFrame\u001b[0m\u001b[0;34m(\u001b[0m\u001b[0mdata\u001b[0m\u001b[0;34m[\u001b[0m\u001b[0;34m'data'\u001b[0m\u001b[0;34m]\u001b[0m\u001b[0;34m,\u001b[0m \u001b[0mcolumns\u001b[0m\u001b[0;34m=\u001b[0m\u001b[0mcolumns\u001b[0m\u001b[0;34m)\u001b[0m\u001b[0;34m\u001b[0m\u001b[0;34m\u001b[0m\u001b[0m\n\u001b[1;32m     77\u001b[0m         \u001b[0;32mif\u001b[0m \u001b[0mdata\u001b[0m\u001b[0;34m[\u001b[0m\u001b[0;34m'type'\u001b[0m\u001b[0;34m]\u001b[0m \u001b[0;34m==\u001b[0m \u001b[0;34m'error'\u001b[0m\u001b[0;34m:\u001b[0m\u001b[0;34m\u001b[0m\u001b[0;34m\u001b[0m\u001b[0m\n\u001b[0;32m---> 78\u001b[0;31m             \u001b[0;32mraise\u001b[0m \u001b[0mRuntimeError\u001b[0m\u001b[0;34m(\u001b[0m\u001b[0mdata\u001b[0m\u001b[0;34m[\u001b[0m\u001b[0;34m'error_message'\u001b[0m\u001b[0;34m]\u001b[0m\u001b[0;34m)\u001b[0m\u001b[0;34m\u001b[0m\u001b[0;34m\u001b[0m\u001b[0m\n\u001b[0m\u001b[1;32m     79\u001b[0m         \u001b[0;32mreturn\u001b[0m \u001b[0;32mNone\u001b[0m\u001b[0;34m\u001b[0m\u001b[0;34m\u001b[0m\u001b[0m\n\u001b[1;32m     80\u001b[0m \u001b[0;34m\u001b[0m\u001b[0m\n",
            "\u001b[0;31mRuntimeError\u001b[0m: Table 'sentiment_classifier_gpt3' do not exists"
          ]
        }
      ]
    },
    {
      "cell_type": "code",
      "source": [
        "# Get all models.\n",
        "model_names = [i.name for i in  project.list_models()]\n",
        "\n",
        "if 'sentiment_classifier_gpt3' in model_names:\n",
        "  print('sentiment_classifier_gpt3 already exists. Returning existing model')\n",
        "  classifier_gpt3 = project.get_model('sentiment_classifier_gpt3')\n",
        "\n",
        "else:\n",
        "  print('Creating sentiment_classifier_gpt3 model')\n",
        "\n",
        "  classifier_gpt3 = project.create_model(\n",
        "        name='sentiment_classifier_gpt3',\n",
        "        engine='openai',\n",
        "        predict='sentiment',\n",
        "        options={\n",
        "            'prompt_template': '''\n",
        "describe the sentiment of the reviews\n",
        "strictly as 'positive', 'neutral', or 'negative'.\n",
        "'I love the product':positive\n",
        "'It is a scam':negative\n",
        "'{{review}}.':\n",
        "            '''\n",
        "        }\n",
        "  )\n",
        "  print('Created sentiment_classifier_gpt3 model successfully')\n",
        "  print(classifier_gpt3)\n",
        "\n",
        "  print('Waiting for model training to complete...please be patient')\n",
        "  for i in range(400):\n",
        "    print('.', end='')\n",
        "    time.sleep(0.5)\n",
        "\n",
        "    if classifier_gpt3.get_status() not in ('generating', 'training'):\n",
        "      print('\\nFinished training sentiment_clssifier_gpt3:')\n",
        "      break\n",
        "\n",
        "print(classifier_gpt3.data)\n",
        "\n",
        "if classifier_gpt3.get_status() == 'error':\n",
        "  print('Something went wrong while training:')\n",
        "  print(classifier_gpt3.data['error'])"
      ],
      "metadata": {
        "colab": {
          "base_uri": "https://localhost:8080/"
        },
        "id": "nRglSRi3414E",
        "outputId": "fb2e1f29-6072-4aae-eff2-b1d7fadf246d"
      },
      "execution_count": null,
      "outputs": [
        {
          "output_type": "stream",
          "name": "stdout",
          "text": [
            "Creating sentiment_classifier_gpt3 model\n",
            "Created sentiment_classifier_gpt3 model successfully\n",
            "Model(sentiment_classifier_gpt3, status=generating)\n",
            "Waiting for model training to complete...please be patient\n",
            "..........Finished training sentiment_clssifier_gpt3:\n",
            "{'name': 'sentiment_classifier_gpt3', 'engine': 'openai', 'project': 'mindsdb', 'version': 1, 'status': 'complete', 'accuracy': None, 'predict': 'sentiment', 'update_status': 'up_to_date', 'mindsdb_version': '23.4.3.2', 'error': None, 'select_data_query': None, 'training_options': '{\\'target\\': \\'sentiment\\', \\'using\\': {\\'prompt_template\\': \"\\\\\\\\ndescribe the sentiment of the reviews\\\\\\\\nstrictly as \\'positive\\', \\'neutral\\', or \\'negative\\'.\\\\\\\\n\\'I love the product\\':positive\\\\\\\\n\\'It is a scam\\':negative\\\\\\\\n\\'{{review}}.\\':\\\\\\\\n            \"}}', 'current_training_phase': None, 'total_training_phases': None, 'training_phase_name': None, 'tag': None, 'created_at': '2023-04-19 19:37:31.596994'}\n"
          ]
        }
      ]
    },
    {
      "cell_type": "markdown",
      "source": [
        "### Query Sentiment Analysis Model (OpenAI)\n"
      ],
      "metadata": {
        "id": "_KmJXGk5-lTM"
      }
    },
    {
      "cell_type": "code",
      "source": [
        "# Get first 2 rows\n",
        "amazon_reviews_limit = amazon_reviews.limit(2)\n",
        "\n",
        "print('Making sentiment prediction on the first 2 rows of amazon_reviews table')\n",
        "ret = classifier_gpt3.predict(amazon_reviews_limit)\n",
        "\n",
        "print(ret)"
      ],
      "metadata": {
        "colab": {
          "base_uri": "https://localhost:8080/"
        },
        "id": "y7uUbezVv0GI",
        "outputId": "35254db8-dcef-4a8f-af36-b2131f3480f8"
      },
      "execution_count": null,
      "outputs": [
        {
          "output_type": "stream",
          "name": "stdout",
          "text": [
            "Making sentiment prediction on the first 2 rows of amazon_reviews table\n",
            "  sentiment\n",
            "0  positive\n",
            "1   neutral\n"
          ]
        }
      ]
    },
    {
      "cell_type": "markdown",
      "source": [
        "You can also query a model (i.e. make predictions) using a dataframe directly:"
      ],
      "metadata": {
        "id": "0kNsuWVxv0aw"
      }
    },
    {
      "cell_type": "code",
      "source": [
        "df = amazon_reviews.fetch()\n",
        "\n",
        "# Get first 2 rows\n",
        "df = df[:2]\n",
        "\n",
        "print('Making sentiment prediction on the first 2 rows of amazon_reviews table using dataframe')\n",
        "ret = classifier_gpt3.predict(df)\n",
        "print(ret)"
      ],
      "metadata": {
        "colab": {
          "base_uri": "https://localhost:8080/"
        },
        "id": "RrgsusTgQ9VC",
        "outputId": "712fe713-1903-48a4-92ee-f69a3fffc9d8"
      },
      "execution_count": null,
      "outputs": [
        {
          "output_type": "stream",
          "name": "stdout",
          "text": [
            "Making sentiment prediction on the first 2 rows of amazon_reviews table using dataframe\n",
            "  sentiment\n",
            "0  positive\n",
            "1   neutral\n"
          ]
        }
      ]
    },
    {
      "cell_type": "markdown",
      "source": [
        "## **Working With Views**\n",
        "\n",
        "After you create a view, you can query it by including it in SELECT statements as if it's a table."
      ],
      "metadata": {
        "id": "mY8kPNDxARX5"
      }
    },
    {
      "cell_type": "markdown",
      "source": [
        "### Create"
      ],
      "metadata": {
        "id": "IcXk_-MPw5ve"
      }
    },
    {
      "cell_type": "code",
      "source": [
        "view = project.create_view(\n",
        "    'demo_view_1',\n",
        "    example_db.query('SELECT comment FROM demo_data.user_comments limit 3')\n",
        ")\n",
        "print('View created:', view)\n"
      ],
      "metadata": {
        "colab": {
          "base_uri": "https://localhost:8080/"
        },
        "id": "_txEwha1wyx2",
        "outputId": "467786e6-0c2a-4495-a04f-d1a5fd8bf2af"
      },
      "execution_count": null,
      "outputs": [
        {
          "output_type": "stream",
          "name": "stdout",
          "text": [
            "View created: View(demo_view_1)\n"
          ]
        }
      ]
    },
    {
      "cell_type": "markdown",
      "source": [
        "### List"
      ],
      "metadata": {
        "id": "Kia-Ej4nxKEQ"
      }
    },
    {
      "cell_type": "code",
      "source": [
        "print('All views:')\n",
        "for view in project.list_views():\n",
        "  print(view)"
      ],
      "metadata": {
        "colab": {
          "base_uri": "https://localhost:8080/"
        },
        "id": "l3xmnGF-xMmY",
        "outputId": "3cc6fea3-df53-4923-cb5c-ccb3220a62ac"
      },
      "execution_count": null,
      "outputs": [
        {
          "output_type": "stream",
          "name": "stdout",
          "text": [
            "All views:\n",
            "View(demo_view_1)\n"
          ]
        }
      ]
    },
    {
      "cell_type": "markdown",
      "source": [
        "### Drop"
      ],
      "metadata": {
        "id": "BewjeEMPxPew"
      }
    },
    {
      "cell_type": "code",
      "source": [
        "project.drop_view('demo_view_1')\n",
        "print('demo_view_1 dropped')"
      ],
      "metadata": {
        "colab": {
          "base_uri": "https://localhost:8080/"
        },
        "id": "wpKXdYSSQGiE",
        "outputId": "816c438d-d373-4c66-cefe-cfac86dbc03f"
      },
      "execution_count": null,
      "outputs": [
        {
          "output_type": "stream",
          "name": "stdout",
          "text": [
            "demo_view_1 dropped\n"
          ]
        }
      ]
    },
    {
      "cell_type": "markdown",
      "source": [
        "## **Working With Jobs**"
      ],
      "metadata": {
        "id": "wi2-F6DUxelC"
      }
    },
    {
      "cell_type": "markdown",
      "source": [
        "### Create"
      ],
      "metadata": {
        "id": "NGSneuXpxgcO"
      }
    },
    {
      "cell_type": "code",
      "source": [
        "job = project.create_job(\n",
        "    'demo_job_1',\n",
        "    'select * from models',\n",
        "    repeat_str='1 hour'\n",
        ")\n",
        "print('Job created', job)\n"
      ],
      "metadata": {
        "colab": {
          "base_uri": "https://localhost:8080/"
        },
        "id": "lDAYN7HuxhqS",
        "outputId": "a8a58f19-e6ec-4365-baae-4c68b2170b73"
      },
      "execution_count": null,
      "outputs": [
        {
          "output_type": "stream",
          "name": "stdout",
          "text": [
            "Job created Job(demo_job_1, query='select * from models')\n"
          ]
        }
      ]
    },
    {
      "cell_type": "markdown",
      "source": [
        "### List"
      ],
      "metadata": {
        "id": "znZd9OxixiI7"
      }
    },
    {
      "cell_type": "code",
      "source": [
        "print('All jobs:')\n",
        "for job in project.list_jobs():\n",
        "  print(job)"
      ],
      "metadata": {
        "colab": {
          "base_uri": "https://localhost:8080/"
        },
        "id": "_uv0v5S8xjFw",
        "outputId": "dd131431-d299-48fb-9eb4-f789b3315124"
      },
      "execution_count": null,
      "outputs": [
        {
          "output_type": "stream",
          "name": "stdout",
          "text": [
            "All jobs:\n",
            "Job(demo_job_1, query='select * from models')\n"
          ]
        }
      ]
    },
    {
      "cell_type": "markdown",
      "source": [
        "### Drop"
      ],
      "metadata": {
        "id": "ogFfVp9fxjWk"
      }
    },
    {
      "cell_type": "code",
      "source": [
        "project.drop_job('demo_job_1')\n",
        "\n",
        "print('demo_job_1 dropped')"
      ],
      "metadata": {
        "colab": {
          "base_uri": "https://localhost:8080/"
        },
        "id": "hlndaDCHxXhS",
        "outputId": "9b6178d2-90d3-48f3-c44b-708d3f6a7d9a"
      },
      "execution_count": null,
      "outputs": [
        {
          "output_type": "stream",
          "name": "stdout",
          "text": [
            "demo_job_1 dropped\n"
          ]
        }
      ]
    }
  ]
}